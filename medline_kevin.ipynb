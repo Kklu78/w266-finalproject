{
 "cells": [
  {
   "cell_type": "code",
   "execution_count": 1,
   "metadata": {},
   "outputs": [],
   "source": [
    "import pandas as pd\n",
    "import numpy as np\n",
    "import re"
   ]
  },
  {
   "cell_type": "code",
   "execution_count": 2,
   "metadata": {},
   "outputs": [],
   "source": [
    "def annotate_sentence(s):\n",
    "    #Annotates Sentence by replacing words with respective tags and the rest with Os\n",
    "    #Example Input: <TREAT> Intravenous immune globulin </TREAT> for <DIS> recurrent spontaneous abortion </DIS> .\n",
    "    #Example Output: ['B-TREAT', 'I-TREAT', 'I-TREAT', O, 'B-DIS', 'I-DIS', 'I-DIS', O]\n",
    "    s = s.split(' ')\n",
    "    subtag = []\n",
    "    for x in range(len(s)):\n",
    "        m = re.match('<(.*?)>', s[x])\n",
    "        if m:\n",
    "            subtag.append([x, m.group(1).replace('/', '')])\n",
    "    subtag_index =  [[x[0], y[0], reduce_tag(x[1])] for x, y in zip(subtag[::2], subtag[1::2])]\n",
    "    subtag_loc = [x[0] for x in subtag]\n",
    "    replaced = []\n",
    "    for x in subtag_index:\n",
    "        for z,y in enumerate(range(x[0]+1, x[1]),1):\n",
    "            s[y] = f\"{'B' if z == 1 else 'I'}-{x[2]}\"\n",
    "            replaced.append(y)\n",
    "    replaced_tags = replaced + subtag_loc\n",
    "    retag = [y for y in [x for x in range(len(s))] if y not in replaced_tags]\n",
    "    for x in retag:\n",
    "        s[x] = 'O'\n",
    "    for x in subtag_loc[::-1]:\n",
    "        del s[x]\n",
    "    return s\n",
    "    \n",
    "def reduce_tag(x):\n",
    "    return 'DIS' if 'DIS' in x else 'TREAT' if 'TREAT' in x else None"
   ]
  },
  {
   "cell_type": "code",
   "execution_count": 3,
   "metadata": {},
   "outputs": [
    {
     "name": "stdout",
     "output_type": "stream",
     "text": [
      "(3655, 4)\n"
     ]
    }
   ],
   "source": [
    "with open('sentences_with_roles_and_relations.txt', encoding = \"ISO-8859-1\") as f:      #Read in Data\n",
    "    lines = f.readlines()\n",
    "\n",
    "data_df = pd.DataFrame({'Data':lines})                                                  #Convert to Dataframe\n",
    "data_df['Label'] = data_df['Data'].apply(lambda x: x.split('||')[1].replace('\\n', ''))  #Split Label into new column - Y1 Input\n",
    "data_df['Data'] = data_df['Data'].apply(lambda x: x.split('||')[0].strip())             #Split Data into new column\n",
    "data_df['Data_Clean'] = data_df['Data'].apply(lambda x: [re.sub('<.*?>', '', y ) for y in x.split(' ')]) #Remove Tags from Data into new column - X Input\n",
    "data_df['Annot'] = data_df['Data'].apply(lambda x: annotate_sentence(x))                #Annotate Sentences - Y2 Input\n",
    "print(data_df.shape)"
   ]
  },
  {
   "cell_type": "code",
   "execution_count": 4,
   "metadata": {},
   "outputs": [
    {
     "data": {
      "text/html": [
       "<div>\n",
       "<style scoped>\n",
       "    .dataframe tbody tr th:only-of-type {\n",
       "        vertical-align: middle;\n",
       "    }\n",
       "\n",
       "    .dataframe tbody tr th {\n",
       "        vertical-align: top;\n",
       "    }\n",
       "\n",
       "    .dataframe thead th {\n",
       "        text-align: right;\n",
       "    }\n",
       "</style>\n",
       "<table border=\"1\" class=\"dataframe\">\n",
       "  <thead>\n",
       "    <tr style=\"text-align: right;\">\n",
       "      <th></th>\n",
       "      <th>Data</th>\n",
       "      <th>Label</th>\n",
       "      <th>Data_Clean</th>\n",
       "      <th>Annot</th>\n",
       "    </tr>\n",
       "  </thead>\n",
       "  <tbody>\n",
       "    <tr>\n",
       "      <th>0</th>\n",
       "      <td>All live births &gt; or = 23 weeks at the Univers...</td>\n",
       "      <td>NONE</td>\n",
       "      <td>[All, live, births, &gt;, or, =, 23, weeks, at, t...</td>\n",
       "      <td>[O, O, O, O, O, O, O, O, O, O, O, O, O, O, O, ...</td>\n",
       "    </tr>\n",
       "    <tr>\n",
       "      <th>1</th>\n",
       "      <td>The total cesarean rate was 14.4 % ( 344 of 23...</td>\n",
       "      <td>NONE</td>\n",
       "      <td>[The, total, cesarean, rate, was, 14.4, %, (, ...</td>\n",
       "      <td>[O, O, O, O, O, O, O, O, O, O, O, O, O, O, O, ...</td>\n",
       "    </tr>\n",
       "    <tr>\n",
       "      <th>2</th>\n",
       "      <td>Abnormal presentation was the most common indi...</td>\n",
       "      <td>NONE</td>\n",
       "      <td>[Abnormal, presentation, was, the, most, commo...</td>\n",
       "      <td>[O, O, O, O, O, O, O, O, O, O, O, O, O, O, O, O]</td>\n",
       "    </tr>\n",
       "    <tr>\n",
       "      <th>3</th>\n",
       "      <td>The `` corrected '' cesarean rate ( maternal-f...</td>\n",
       "      <td>NONE</td>\n",
       "      <td>[The, ``, corrected, '', cesarean, rate, (, ma...</td>\n",
       "      <td>[O, O, O, O, O, O, O, O, O, O, O, O, O, O, O, ...</td>\n",
       "    </tr>\n",
       "    <tr>\n",
       "      <th>4</th>\n",
       "      <td>Furthermore , when all deliveries were analyze...</td>\n",
       "      <td>NONE</td>\n",
       "      <td>[Furthermore, ,, when, all, deliveries, were, ...</td>\n",
       "      <td>[O, O, O, O, O, O, O, O, O, O, O, O, O, O, O, ...</td>\n",
       "    </tr>\n",
       "    <tr>\n",
       "      <th>...</th>\n",
       "      <td>...</td>\n",
       "      <td>...</td>\n",
       "      <td>...</td>\n",
       "      <td>...</td>\n",
       "    </tr>\n",
       "    <tr>\n",
       "      <th>3650</th>\n",
       "      <td>Special report : &lt;TREAT&gt; pressure-reducing sup...</td>\n",
       "      <td>TREAT_FOR_DIS</td>\n",
       "      <td>[Special, report, :, , pressure-reducing, supp...</td>\n",
       "      <td>[O, O, O, B-TREAT, I-TREAT, I-TREAT, O, O, O, ...</td>\n",
       "    </tr>\n",
       "    <tr>\n",
       "      <th>3651</th>\n",
       "      <td>&lt;TREAT&gt; Intravenous immune globulin &lt;/TREAT&gt; f...</td>\n",
       "      <td>TREAT_FOR_DIS</td>\n",
       "      <td>[, Intravenous, immune, globulin, , for, , rec...</td>\n",
       "      <td>[B-TREAT, I-TREAT, I-TREAT, O, B-DIS, I-DIS, I...</td>\n",
       "    </tr>\n",
       "    <tr>\n",
       "      <th>3652</th>\n",
       "      <td>&lt;TREAT&gt; External counterpulsation &lt;/TREAT&gt; for...</td>\n",
       "      <td>TREAT_FOR_DIS</td>\n",
       "      <td>[, External, counterpulsation, , for, treatmen...</td>\n",
       "      <td>[B-TREAT, I-TREAT, O, O, O, B-DIS, I-DIS, I-DI...</td>\n",
       "    </tr>\n",
       "    <tr>\n",
       "      <th>3653</th>\n",
       "      <td>&lt;TREAT&gt; Intra-articular hyaluronan injections ...</td>\n",
       "      <td>TREAT_FOR_DIS</td>\n",
       "      <td>[, Intra-articular, hyaluronan, injections, , ...</td>\n",
       "      <td>[B-TREAT, I-TREAT, I-TREAT, O, O, O, B-DIS, O,...</td>\n",
       "    </tr>\n",
       "    <tr>\n",
       "      <th>3654</th>\n",
       "      <td>&lt;DIS_PREV&gt; Pneumococcal &lt;/DIS_PREV&gt; &lt;TREAT_PRE...</td>\n",
       "      <td>PREVENT</td>\n",
       "      <td>[, Pneumococcal, , , vaccine, , :, a, second, ...</td>\n",
       "      <td>[B-DIS, B-TREAT, O, O, O, O, O]</td>\n",
       "    </tr>\n",
       "  </tbody>\n",
       "</table>\n",
       "<p>3655 rows × 4 columns</p>\n",
       "</div>"
      ],
      "text/plain": [
       "                                                   Data          Label  \\\n",
       "0     All live births > or = 23 weeks at the Univers...           NONE   \n",
       "1     The total cesarean rate was 14.4 % ( 344 of 23...           NONE   \n",
       "2     Abnormal presentation was the most common indi...           NONE   \n",
       "3     The `` corrected '' cesarean rate ( maternal-f...           NONE   \n",
       "4     Furthermore , when all deliveries were analyze...           NONE   \n",
       "...                                                 ...            ...   \n",
       "3650  Special report : <TREAT> pressure-reducing sup...  TREAT_FOR_DIS   \n",
       "3651  <TREAT> Intravenous immune globulin </TREAT> f...  TREAT_FOR_DIS   \n",
       "3652  <TREAT> External counterpulsation </TREAT> for...  TREAT_FOR_DIS   \n",
       "3653  <TREAT> Intra-articular hyaluronan injections ...  TREAT_FOR_DIS   \n",
       "3654  <DIS_PREV> Pneumococcal </DIS_PREV> <TREAT_PRE...        PREVENT   \n",
       "\n",
       "                                             Data_Clean  \\\n",
       "0     [All, live, births, >, or, =, 23, weeks, at, t...   \n",
       "1     [The, total, cesarean, rate, was, 14.4, %, (, ...   \n",
       "2     [Abnormal, presentation, was, the, most, commo...   \n",
       "3     [The, ``, corrected, '', cesarean, rate, (, ma...   \n",
       "4     [Furthermore, ,, when, all, deliveries, were, ...   \n",
       "...                                                 ...   \n",
       "3650  [Special, report, :, , pressure-reducing, supp...   \n",
       "3651  [, Intravenous, immune, globulin, , for, , rec...   \n",
       "3652  [, External, counterpulsation, , for, treatmen...   \n",
       "3653  [, Intra-articular, hyaluronan, injections, , ...   \n",
       "3654  [, Pneumococcal, , , vaccine, , :, a, second, ...   \n",
       "\n",
       "                                                  Annot  \n",
       "0     [O, O, O, O, O, O, O, O, O, O, O, O, O, O, O, ...  \n",
       "1     [O, O, O, O, O, O, O, O, O, O, O, O, O, O, O, ...  \n",
       "2      [O, O, O, O, O, O, O, O, O, O, O, O, O, O, O, O]  \n",
       "3     [O, O, O, O, O, O, O, O, O, O, O, O, O, O, O, ...  \n",
       "4     [O, O, O, O, O, O, O, O, O, O, O, O, O, O, O, ...  \n",
       "...                                                 ...  \n",
       "3650  [O, O, O, B-TREAT, I-TREAT, I-TREAT, O, O, O, ...  \n",
       "3651  [B-TREAT, I-TREAT, I-TREAT, O, B-DIS, I-DIS, I...  \n",
       "3652  [B-TREAT, I-TREAT, O, O, O, B-DIS, I-DIS, I-DI...  \n",
       "3653  [B-TREAT, I-TREAT, I-TREAT, O, O, O, B-DIS, O,...  \n",
       "3654                    [B-DIS, B-TREAT, O, O, O, O, O]  \n",
       "\n",
       "[3655 rows x 4 columns]"
      ]
     },
     "execution_count": 4,
     "metadata": {},
     "output_type": "execute_result"
    }
   ],
   "source": [
    "data_df"
   ]
  },
  {
   "cell_type": "code",
   "execution_count": 5,
   "metadata": {},
   "outputs": [
    {
     "name": "stdout",
     "output_type": "stream",
     "text": [
      "['O', 'O', 'O', 'O', 'O', 'O', 'O', 'O', 'O', 'O', 'O', 'O', 'O', 'O', 'O', 'O', 'O', 'O', 'O', 'O', 'B-TREAT', 'O', 'O', 'O', 'O', 'O', 'O', 'O', 'O', 'O', 'O', 'O', 'O', 'O', 'O', 'O', 'B-DIS', 'I-DIS', 'I-DIS', 'I-DIS', 'I-DIS', 'I-DIS', 'I-DIS', 'I-DIS', 'O', 'O', 'O', 'O']\n"
     ]
    }
   ],
   "source": [
    "s = \"based on the results of three well-designed studies demonstrating the vaccine 's safety , immunogenicity , and efficacy , the <TREAT_PREV> vaccine </TREAT_PREV> is safe and effective for active immunization of children < 2 years of age against <DIS_PREV> invasive disease caused by seven streptococcus pneumoniae serotypes </DIS_PREV> included in the vaccine.\"\n",
    "print(annotate_sentence(s))\n"
   ]
  },
  {
   "cell_type": "code",
   "execution_count": 6,
   "metadata": {},
   "outputs": [
    {
     "name": "stdout",
     "output_type": "stream",
     "text": [
      "<TREAT> Intravenous immune globulin </TREAT> for <DIS> recurrent spontaneous abortion </DIS> .\n",
      "12\n",
      "['<TREAT>', 'Intravenous', 'immune', 'globulin', '</TREAT>', 'for', '<DIS>', 'recurrent', 'spontaneous', 'abortion', '</DIS>', '.']\n"
     ]
    }
   ],
   "source": [
    "x = 3651\n",
    "s = data_df[x:x+1]['Data'][x]\n",
    "print(s)\n",
    "print(len(s.split(' ')))\n",
    "print(s.split(' '))"
   ]
  },
  {
   "cell_type": "code",
   "execution_count": 7,
   "metadata": {},
   "outputs": [
    {
     "name": "stdout",
     "output_type": "stream",
     "text": [
      "['B-TREAT', 'I-TREAT', 'I-TREAT', 'O', 'B-DIS', 'I-DIS', 'I-DIS', 'O']\n",
      "8\n"
     ]
    }
   ],
   "source": [
    "print(annotate_sentence(s))\n",
    "print(len(annotate_sentence(s)))"
   ]
  }
 ],
 "metadata": {
  "interpreter": {
   "hash": "6cc9ca513c076563eda6cfe1fbae8a7265968610c2b36865a8154825d9f5c75e"
  },
  "kernelspec": {
   "display_name": "Python 3.8.2 64-bit ('base': conda)",
   "name": "python3"
  },
  "language_info": {
   "codemirror_mode": {
    "name": "ipython",
    "version": 3
   },
   "file_extension": ".py",
   "mimetype": "text/x-python",
   "name": "python",
   "nbconvert_exporter": "python",
   "pygments_lexer": "ipython3",
   "version": "3.8.2"
  },
  "orig_nbformat": 4
 },
 "nbformat": 4,
 "nbformat_minor": 2
}
