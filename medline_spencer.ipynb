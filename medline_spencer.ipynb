{
 "cells": [
  {
   "cell_type": "code",
   "execution_count": 1,
   "metadata": {},
   "outputs": [],
   "source": [
    "#imports\n",
    "import pandas as pd\n",
    "import numpy as np\n",
    "import re\n",
    "import wget\n",
    "# BioBERT-Base v1.0 (+ PubMed 200K) - based on BERT-base-Cased (same vocabulary)\n",
    "url = 'https://drive.google.com/drive/folders/1mQC-MQSm00YgBEDUFFgppp_R4S7AoFrz?usp=sharing'\n",
    "bioBert_200k = wget.download(url)\n"
   ]
  },
  {
   "cell_type": "code",
   "execution_count": 2,
   "metadata": {},
   "outputs": [
    {
     "name": "stdout",
     "output_type": "stream",
     "text": [
      "(3655, 2)\n"
     ]
    }
   ],
   "source": [
    "##Import dataset from folder as pandas DF\n",
    "\n",
    "with open('sentences_with_roles_and_relations.txt', encoding = \"ISO-8859-1\") as f:\n",
    "    lines = f.readlines()\n",
    "\n",
    "data_df = pd.DataFrame({'Data':lines})\n",
    "data_df['Label'] = data_df['Data'].apply(lambda x: x.split('||')[1])\n",
    "data_df['Data'] = data_df['Data'].apply(lambda x: x.split('||')[0])\n",
    "data_df['Label'] = data_df['Label'].apply(lambda x: x.replace('\\n', ''))\n",
    "print(data_df.shape)"
   ]
  },
  {
   "cell_type": "code",
   "execution_count": 3,
   "metadata": {},
   "outputs": [],
   "source": [
    "#pandas show full output\n",
    "pd.set_option('display.max_colwidth', None)"
   ]
  },
  {
   "cell_type": "code",
   "execution_count": 4,
   "metadata": {
    "scrolled": false
   },
   "outputs": [],
   "source": [
    "#fix broken tag in data\n",
    "data_df['Data'].iloc[872] = '<TREATONLY> Primary thrombolytic treatment </TREATONLY> ( within 24 hours of diagnosis ) was given to 169 patients ( 23.5 % ) , whereas the remaining 550 patients were initially treated with <TREATONLY> heparin </TREATONLY> alone .'"
   ]
  },
  {
   "cell_type": "code",
   "execution_count": null,
   "metadata": {},
   "outputs": [],
   "source": []
  },
  {
   "cell_type": "code",
   "execution_count": 4,
   "metadata": {},
   "outputs": [
    {
     "ename": "SyntaxError",
     "evalue": "invalid syntax (<ipython-input-4-2d078a1e62e5>, line 11)",
     "output_type": "error",
     "traceback": [
      "\u001b[0;36m  File \u001b[0;32m\"<ipython-input-4-2d078a1e62e5>\"\u001b[0;36m, line \u001b[0;32m11\u001b[0m\n\u001b[0;31m    data = re.replace(, \"\")\u001b[0m\n\u001b[0m                      ^\u001b[0m\n\u001b[0;31mSyntaxError\u001b[0m\u001b[0;31m:\u001b[0m invalid syntax\n"
     ]
    }
   ],
   "source": [
    "def clean_labels(data):\n",
    "    \"\"\"\n",
    "    Take raw dataframe and blend labels together. Remove TO_SEE instances.\n",
    "    Input:\n",
    "        Data: Pandas Dataframe\n",
    "    Output:\n",
    "        Data: Pandas Dataframe\n",
    "    \"\"\"\n",
    "    data = data[data['Label'] != 'TO_SEE']\n",
    "    \n",
    "    data = re.replace(, \"\")\n",
    "    data = data.replace({\"Label\": label_dict})\n",
    "    return data"
   ]
  },
  {
   "cell_type": "code",
   "execution_count": 3,
   "metadata": {},
   "outputs": [
    {
     "ename": "NameError",
     "evalue": "name 'clean_labels' is not defined",
     "output_type": "error",
     "traceback": [
      "\u001b[0;31m---------------------------------------------------------------------------\u001b[0m",
      "\u001b[0;31mNameError\u001b[0m                                 Traceback (most recent call last)",
      "\u001b[0;32m<ipython-input-3-0f740f3946aa>\u001b[0m in \u001b[0;36m<module>\u001b[0;34m\u001b[0m\n\u001b[0;32m----> 1\u001b[0;31m \u001b[0mdata_df\u001b[0m \u001b[0;34m=\u001b[0m \u001b[0mclean_labels\u001b[0m\u001b[0;34m(\u001b[0m\u001b[0mdata_df\u001b[0m\u001b[0;34m)\u001b[0m\u001b[0;34m\u001b[0m\u001b[0;34m\u001b[0m\u001b[0m\n\u001b[0m",
      "\u001b[0;31mNameError\u001b[0m: name 'clean_labels' is not defined"
     ]
    }
   ],
   "source": [
    "data_df = clean_labels(data_df)"
   ]
  },
  {
   "cell_type": "code",
   "execution_count": null,
   "metadata": {},
   "outputs": [],
   "source": [
    "def clean_tags(data):\n",
    "    \"\"\"\n",
    "    Take raw dataframe and blend tags together. Assumed that TO_SEE is already removed\n",
    "    Input:\n",
    "        Data: Pandas Dataframe\n",
    "    Output:\n",
    "        Data: Pandas Dataframe\n",
    "    \"\"\"\n",
    "    label_dict = {}\n",
    "    data = data.replace({\"Label\": label_dict})\n",
    "    return data"
   ]
  },
  {
   "cell_type": "code",
   "execution_count": null,
   "metadata": {
    "scrolled": false
   },
   "outputs": [],
   "source": []
  },
  {
   "cell_type": "code",
   "execution_count": 1,
   "metadata": {
    "scrolled": false
   },
   "outputs": [
    {
     "ename": "NameError",
     "evalue": "name 'data_df' is not defined",
     "output_type": "error",
     "traceback": [
      "\u001b[0;31m---------------------------------------------------------------------------\u001b[0m",
      "\u001b[0;31mNameError\u001b[0m                                 Traceback (most recent call last)",
      "\u001b[0;32m<ipython-input-1-6a788a983036>\u001b[0m in \u001b[0;36m<module>\u001b[0;34m\u001b[0m\n\u001b[0;32m----> 1\u001b[0;31m \u001b[0mdata_df\u001b[0m\u001b[0;34m[\u001b[0m\u001b[0;34m'Label'\u001b[0m\u001b[0;34m]\u001b[0m\u001b[0;34m.\u001b[0m\u001b[0munique\u001b[0m\u001b[0;34m(\u001b[0m\u001b[0;34m)\u001b[0m\u001b[0;34m\u001b[0m\u001b[0;34m\u001b[0m\u001b[0m\n\u001b[0m",
      "\u001b[0;31mNameError\u001b[0m: name 'data_df' is not defined"
     ]
    }
   ],
   "source": [
    "data_df['Label'].unique()"
   ]
  },
  {
   "cell_type": "code",
   "execution_count": 2,
   "metadata": {},
   "outputs": [
    {
     "ename": "NameError",
     "evalue": "name 'data_df' is not defined",
     "output_type": "error",
     "traceback": [
      "\u001b[0;31m---------------------------------------------------------------------------\u001b[0m",
      "\u001b[0;31mNameError\u001b[0m                                 Traceback (most recent call last)",
      "\u001b[0;32m<ipython-input-2-ecbc8176d5cd>\u001b[0m in \u001b[0;36m<module>\u001b[0;34m\u001b[0m\n\u001b[1;32m      1\u001b[0m \u001b[0mlabels\u001b[0m\u001b[0;34m=\u001b[0m\u001b[0;34m[\u001b[0m\u001b[0;34m]\u001b[0m\u001b[0;34m\u001b[0m\u001b[0;34m\u001b[0m\u001b[0m\n\u001b[0;32m----> 2\u001b[0;31m \u001b[0;32mfor\u001b[0m \u001b[0mi\u001b[0m \u001b[0;32min\u001b[0m \u001b[0mdata_df\u001b[0m\u001b[0;34m[\u001b[0m\u001b[0;34m'Data'\u001b[0m\u001b[0;34m]\u001b[0m\u001b[0;34m:\u001b[0m\u001b[0;34m\u001b[0m\u001b[0;34m\u001b[0m\u001b[0m\n\u001b[0m\u001b[1;32m      3\u001b[0m     \u001b[0mlabels\u001b[0m\u001b[0;34m.\u001b[0m\u001b[0mappend\u001b[0m\u001b[0;34m(\u001b[0m\u001b[0mre\u001b[0m\u001b[0;34m.\u001b[0m\u001b[0mfindall\u001b[0m\u001b[0;34m(\u001b[0m\u001b[0;34mr'<.+?>'\u001b[0m\u001b[0;34m,\u001b[0m\u001b[0mi\u001b[0m\u001b[0;34m)\u001b[0m\u001b[0;34m)\u001b[0m\u001b[0;34m\u001b[0m\u001b[0;34m\u001b[0m\u001b[0m\n",
      "\u001b[0;31mNameError\u001b[0m: name 'data_df' is not defined"
     ]
    }
   ],
   "source": [
    "labels=[]\n",
    "for i in data_df['Data']:\n",
    "    labels.append(re.findall(r'<.+?>',i))"
   ]
  },
  {
   "cell_type": "code",
   "execution_count": null,
   "metadata": {},
   "outputs": [],
   "source": [
    "flat_labels = [item for sublist in labels for item in sublist]"
   ]
  },
  {
   "cell_type": "code",
   "execution_count": null,
   "metadata": {},
   "outputs": [
    {
     "data": {
      "text/plain": [
       "6416"
      ]
     },
     "execution_count": 22,
     "metadata": {},
     "output_type": "execute_result"
    }
   ],
   "source": [
    "len(flat_labels)"
   ]
  },
  {
   "cell_type": "code",
   "execution_count": null,
   "metadata": {},
   "outputs": [],
   "source": [
    "unique_labels = list(set(flat_labels))"
   ]
  },
  {
   "cell_type": "code",
   "execution_count": null,
   "metadata": {},
   "outputs": [
    {
     "data": {
      "text/plain": [
       "['< or = 30 mm ) were treated by <TREAT>',\n",
       " '<DISONLY>',\n",
       " '</TREAT_VAG>',\n",
       " '<TREAT_SIDE_EFF>',\n",
       " '</DIS_PREV>',\n",
       " '<DIS_NO>',\n",
       " '</DIS_NO>',\n",
       " '<TREAT_VAG>',\n",
       " '<TREAT_NO>',\n",
       " '< /TO_SEES >',\n",
       " '</TREAT_PREV>',\n",
       " '</DIS_VAG>',\n",
       " '< outpatient primary or adjuvant <TREAT>',\n",
       " '</DISONLY>',\n",
       " '<TREATONLY>',\n",
       " '<DIS_VAG>',\n",
       " '</TREAT_SIDE_EFF>',\n",
       " '</DIS_SIDE_EFF>',\n",
       " '<DIS>',\n",
       " '</DIS>',\n",
       " '<DIS_SIDE_EFF>',\n",
       " '<DIS_PREV>',\n",
       " '< 2 years of age against <DIS_PREV>',\n",
       " '<TREAT_PREV>',\n",
       " '<TREAT>',\n",
       " '</TREATONLY>',\n",
       " '< 2 years ) - survival for patients with <DIS>',\n",
       " '</TREAT>',\n",
       " '</TREAT_NO>',\n",
       " '< Roux-en-Y syndrome >',\n",
       " '< TREATONLY >']"
      ]
     },
     "execution_count": 24,
     "metadata": {},
     "output_type": "execute_result"
    }
   ],
   "source": [
    "unique_labels"
   ]
  },
  {
   "cell_type": "code",
   "execution_count": null,
   "metadata": {},
   "outputs": [
    {
     "data": {
      "text/plain": [
       "Counter({'<DISONLY>': 817,\n",
       "         '</DISONLY>': 817,\n",
       "         '<TREATONLY>': 221,\n",
       "         '</TREATONLY>': 222,\n",
       "         '<DIS_PREV>': 68,\n",
       "         '</DIS_PREV>': 69,\n",
       "         '<TREAT_PREV>': 69,\n",
       "         '</TREAT_PREV>': 69,\n",
       "         '<TREAT_VAG>': 44,\n",
       "         '</TREAT_VAG>': 44,\n",
       "         '<DIS_VAG>': 41,\n",
       "         '</DIS_VAG>': 41,\n",
       "         '<TREAT>': 969,\n",
       "         '</TREAT>': 971,\n",
       "         '<DIS>': 887,\n",
       "         '</DIS>': 888,\n",
       "         '<TREAT_SIDE_EFF>': 40,\n",
       "         '</TREAT_SIDE_EFF>': 40,\n",
       "         '<DIS_SIDE_EFF>': 37,\n",
       "         '</DIS_SIDE_EFF>': 37,\n",
       "         '<TREAT_NO>': 4,\n",
       "         '</TREAT_NO>': 4,\n",
       "         '<DIS_NO>': 5,\n",
       "         '</DIS_NO>': 5,\n",
       "         '< /TO_SEES >': 1,\n",
       "         '< TREATONLY >': 1,\n",
       "         '< 2 years of age against <DIS_PREV>': 1,\n",
       "         '< 2 years ) - survival for patients with <DIS>': 1,\n",
       "         '< or = 30 mm ) were treated by <TREAT>': 1,\n",
       "         '< outpatient primary or adjuvant <TREAT>': 1,\n",
       "         '< Roux-en-Y syndrome >': 1})"
      ]
     },
     "execution_count": 25,
     "metadata": {},
     "output_type": "execute_result"
    }
   ],
   "source": [
    "from collections import Counter\n",
    "Counter(flat_labels)"
   ]
  },
  {
   "cell_type": "markdown",
   "metadata": {},
   "source": [
    "Cure, Prevent, Side effect, No cure, and other"
   ]
  },
  {
   "cell_type": "code",
   "execution_count": null,
   "metadata": {},
   "outputs": [],
   "source": [
    "data_df['Label'].unique()"
   ]
  },
  {
   "cell_type": "code",
   "execution_count": null,
   "metadata": {},
   "outputs": [],
   "source": [
    "#find all rows with containing a certain string\n",
    "data_df[data_df['Data'].str.contains('< TREATONLYPrimary thromb', regex=False, case=False, na=False)]"
   ]
  },
  {
   "cell_type": "code",
   "execution_count": null,
   "metadata": {},
   "outputs": [],
   "source": []
  },
  {
   "cell_type": "code",
   "execution_count": null,
   "metadata": {},
   "outputs": [],
   "source": []
  },
  {
   "cell_type": "code",
   "execution_count": null,
   "metadata": {},
   "outputs": [],
   "source": [
    "for x in range(len(example)):\n",
    "    m = re.match('<(.*?)>', s[x])\n",
    "    if m:\n",
    "        print(m.group(1))"
   ]
  },
  {
   "cell_type": "code",
   "execution_count": null,
   "metadata": {},
   "outputs": [],
   "source": []
  },
  {
   "cell_type": "code",
   "execution_count": null,
   "metadata": {},
   "outputs": [],
   "source": [
    "data_df['Label'].unique()"
   ]
  },
  {
   "cell_type": "code",
   "execution_count": null,
   "metadata": {},
   "outputs": [],
   "source": [
    "data_df['Data'].iloc[4]"
   ]
  },
  {
   "cell_type": "code",
   "execution_count": null,
   "metadata": {},
   "outputs": [],
   "source": [
    "data_df[data_df['Label'] != 'NONE']['Data']"
   ]
  },
  {
   "cell_type": "code",
   "execution_count": null,
   "metadata": {},
   "outputs": [],
   "source": []
  }
 ],
 "metadata": {
  "interpreter": {
   "hash": "6cc9ca513c076563eda6cfe1fbae8a7265968610c2b36865a8154825d9f5c75e"
  },
  "kernelspec": {
   "display_name": "Python 3.8.2 64-bit ('base': conda)",
   "name": "python3"
  },
  "language_info": {
   "codemirror_mode": {
    "name": "ipython",
    "version": 3
   },
   "file_extension": ".py",
   "mimetype": "text/x-python",
   "name": "python",
   "nbconvert_exporter": "python",
   "pygments_lexer": "ipython3",
   "version": "3.8.2"
  }
 },
 "nbformat": 4,
 "nbformat_minor": 2
}
