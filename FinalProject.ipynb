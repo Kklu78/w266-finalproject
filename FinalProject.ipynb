{
 "cells": [
  {
   "cell_type": "code",
   "execution_count": 2,
   "metadata": {},
   "outputs": [],
   "source": [
    "import pandas as pd\n",
    "import numpy as np\n",
    "import re"
   ]
  },
  {
   "cell_type": "code",
   "execution_count": 3,
   "metadata": {},
   "outputs": [],
   "source": [
    "def annotate_sentence(s):\n",
    "    #Annotates Sentence by replacing words with respective tags and the rest with Os\n",
    "    #Example Input: <TREAT> Intravenous immune globulin </TREAT> for <DIS> recurrent spontaneous abortion </DIS> .\n",
    "    #Example Output: ['B-TREAT', 'I-TREAT', 'I-TREAT', O, 'B-DIS', 'I-DIS', 'I-DIS', O]\n",
    "    s = s.split(' ')\n",
    "    subtag = []\n",
    "    for x in range(len(s)):\n",
    "        m = re.match('<(.*?)>', s[x])\n",
    "        if m:\n",
    "            subtag.append([x, m.group(1).replace('/', '')])\n",
    "    subtag_index =  [[x[0], y[0], reduce_tag(x[1])] for x, y in zip(subtag[::2], subtag[1::2])]\n",
    "    subtag_loc = [x[0] for x in subtag]\n",
    "    replaced = []\n",
    "    for x in subtag_index:\n",
    "        for z,y in enumerate(range(x[0]+1, x[1]),1):\n",
    "            s[y] = f\"{'B' if z == 1 else 'I'}-{x[2]}\"\n",
    "            replaced.append(y)\n",
    "    replaced_tags = replaced + subtag_loc\n",
    "    retag = [y for y in [x for x in range(len(s))] if y not in replaced_tags]\n",
    "    for x in retag:\n",
    "        s[x] = 'O'\n",
    "    for x in subtag_loc[::-1]:\n",
    "        del s[x]\n",
    "    return s\n",
    "    \n",
    "def reduce_tag(x):\n",
    "    return 'DIS' if 'DIS' in x else 'TREAT' if 'TREAT' in x else None"
   ]
  },
  {
   "cell_type": "code",
   "execution_count": 4,
   "metadata": {},
   "outputs": [],
   "source": [
    "def clean_labels(data):\n",
    "    \"\"\"\n",
    "    Take raw dataframe and blend labels together. Remove TO_SEE instances.\n",
    "    Input:\n",
    "        Data: Pandas Dataframe\n",
    "    Output:\n",
    "        Data: Pandas Dataframe\n",
    "    \"\"\"\n",
    "    data = data[data['Label'] != 'TO_SEE']\n",
    "    label_dict = {'NONE': 'NONE', 'DISONLY': 'OTHER', 'TREATONLY': 'OTHER', 'PREVENT': 'PREVENT', 'VAGUE': 'OTHER', 'TO_SEE': 'OTHER',\n",
    "       'TREAT_FOR_DIS': 'CURE', 'SIDE_EFF': 'SIDE_EFF', 'TREAT_NO_FOR_DIS': 'NO_CURE'}\n",
    "    data = data.replace({'Label': label_dict})\n",
    "    return data"
   ]
  },
  {
   "cell_type": "code",
   "execution_count": 5,
   "metadata": {},
   "outputs": [
    {
     "name": "stdout",
     "output_type": "stream",
     "text": [
      "(3580, 4)\n"
     ]
    }
   ],
   "source": [
    "with open('sentences_with_roles_and_relations.txt', encoding = \"ISO-8859-1\") as f:      #Read in Data\n",
    "    lines = f.readlines()\n",
    "\n",
    "data_df = pd.DataFrame({'Data':lines})                                                  #Convert to Dataframe\n",
    "data_df['Label'] = data_df['Data'].apply(lambda x: x.split('||')[1].replace('\\n', ''))  #Split Label into new column - Y1 Input\n",
    "data_df['Data'] = data_df['Data'].apply(lambda x: x.split('||')[0].strip())             #Split Data into new column\n",
    "data_df['Data_Clean'] = data_df['Data'].apply(lambda x: [re.sub('<.*?>', '', y ) for y in x.split(' ')]) #Remove Tags from Data into new column - X Input\n",
    "data_df['Annot'] = data_df['Data'].apply(lambda x: annotate_sentence(x))                #Annotate Sentences - Y2 Input\n",
    "data_df['Data'].iloc[872] = '<TREATONLY> Primary thrombolytic treatment </TREATONLY> ( within 24 hours of diagnosis ) was given to 169 patients ( 23.5 % ) , whereas the remaining 550 patients were initially treated with <TREATONLY> heparin </TREATONLY> alone .'\n",
    "data_df = clean_labels(data_df)\n",
    "print(data_df.shape)"
   ]
  },
  {
   "cell_type": "code",
   "execution_count": 18,
   "metadata": {},
   "outputs": [
    {
     "name": "stdout",
     "output_type": "stream",
     "text": [
      "0\n"
     ]
    }
   ],
   "source": [
    "\n"
   ]
  },
  {
   "cell_type": "code",
   "execution_count": null,
   "metadata": {},
   "outputs": [],
   "source": []
  }
 ],
 "metadata": {
  "interpreter": {
   "hash": "6cc9ca513c076563eda6cfe1fbae8a7265968610c2b36865a8154825d9f5c75e"
  },
  "kernelspec": {
   "display_name": "Python 3.8.2 64-bit ('base': conda)",
   "name": "python3"
  },
  "language_info": {
   "codemirror_mode": {
    "name": "ipython",
    "version": 3
   },
   "file_extension": ".py",
   "mimetype": "text/x-python",
   "name": "python",
   "nbconvert_exporter": "python",
   "pygments_lexer": "ipython3",
   "version": "3.8.2"
  },
  "orig_nbformat": 4
 },
 "nbformat": 4,
 "nbformat_minor": 2
}
