{
 "cells": [
  {
   "cell_type": "code",
   "execution_count": 6,
   "metadata": {},
   "outputs": [],
   "source": [
    "import pandas as pd\n",
    "import numpy as np\n",
    "import re\n"
   ]
  },
  {
   "cell_type": "code",
   "execution_count": 2,
   "metadata": {},
   "outputs": [
    {
     "name": "stdout",
     "output_type": "stream",
     "text": [
      "(3655, 2)\n"
     ]
    }
   ],
   "source": [
    "with open('sentences_with_roles_and_relations.txt', encoding = \"ISO-8859-1\") as f:\n",
    "    lines = f.readlines()\n",
    "\n",
    "data_df = pd.DataFrame({'Data':lines})\n",
    "data_df['Label'] = data_df['Data'].apply(lambda x: x.split('||')[1])\n",
    "data_df['Data'] = data_df['Data'].apply(lambda x: x.split('||')[0])\n",
    "data_df['Label'] = data_df['Label'].apply(lambda x: x.replace('\\n', ''))\n",
    "print(data_df.shape)"
   ]
  },
  {
   "cell_type": "code",
   "execution_count": 3,
   "metadata": {},
   "outputs": [
    {
     "data": {
      "text/html": [
       "<div>\n",
       "<style scoped>\n",
       "    .dataframe tbody tr th:only-of-type {\n",
       "        vertical-align: middle;\n",
       "    }\n",
       "\n",
       "    .dataframe tbody tr th {\n",
       "        vertical-align: top;\n",
       "    }\n",
       "\n",
       "    .dataframe thead th {\n",
       "        text-align: right;\n",
       "    }\n",
       "</style>\n",
       "<table border=\"1\" class=\"dataframe\">\n",
       "  <thead>\n",
       "    <tr style=\"text-align: right;\">\n",
       "      <th></th>\n",
       "      <th>Data</th>\n",
       "      <th>Label</th>\n",
       "    </tr>\n",
       "  </thead>\n",
       "  <tbody>\n",
       "    <tr>\n",
       "      <th>0</th>\n",
       "      <td>All live births &gt; or = 23 weeks at the Univers...</td>\n",
       "      <td>NONE</td>\n",
       "    </tr>\n",
       "    <tr>\n",
       "      <th>1</th>\n",
       "      <td>The total cesarean rate was 14.4 % ( 344 of 23...</td>\n",
       "      <td>NONE</td>\n",
       "    </tr>\n",
       "    <tr>\n",
       "      <th>2</th>\n",
       "      <td>Abnormal presentation was the most common indi...</td>\n",
       "      <td>NONE</td>\n",
       "    </tr>\n",
       "    <tr>\n",
       "      <th>3</th>\n",
       "      <td>The `` corrected '' cesarean rate ( maternal-f...</td>\n",
       "      <td>NONE</td>\n",
       "    </tr>\n",
       "    <tr>\n",
       "      <th>4</th>\n",
       "      <td>Furthermore , when all deliveries were analyze...</td>\n",
       "      <td>NONE</td>\n",
       "    </tr>\n",
       "    <tr>\n",
       "      <th>...</th>\n",
       "      <td>...</td>\n",
       "      <td>...</td>\n",
       "    </tr>\n",
       "    <tr>\n",
       "      <th>3650</th>\n",
       "      <td>Special report : &lt;TREAT&gt; pressure-reducing su...</td>\n",
       "      <td>TREAT_FOR_DIS</td>\n",
       "    </tr>\n",
       "    <tr>\n",
       "      <th>3651</th>\n",
       "      <td>&lt;TREAT&gt; Intravenous immune globulin &lt;/TREAT&gt; ...</td>\n",
       "      <td>TREAT_FOR_DIS</td>\n",
       "    </tr>\n",
       "    <tr>\n",
       "      <th>3652</th>\n",
       "      <td>&lt;TREAT&gt; External counterpulsation &lt;/TREAT&gt; fo...</td>\n",
       "      <td>TREAT_FOR_DIS</td>\n",
       "    </tr>\n",
       "    <tr>\n",
       "      <th>3653</th>\n",
       "      <td>&lt;TREAT&gt; Intra-articular hyaluronan injections...</td>\n",
       "      <td>TREAT_FOR_DIS</td>\n",
       "    </tr>\n",
       "    <tr>\n",
       "      <th>3654</th>\n",
       "      <td>&lt;DIS_PREV&gt; Pneumococcal &lt;/DIS_PREV&gt; &lt;TREAT_PR...</td>\n",
       "      <td>PREVENT</td>\n",
       "    </tr>\n",
       "  </tbody>\n",
       "</table>\n",
       "<p>3655 rows × 2 columns</p>\n",
       "</div>"
      ],
      "text/plain": [
       "                                                   Data          Label\n",
       "0     All live births > or = 23 weeks at the Univers...           NONE\n",
       "1     The total cesarean rate was 14.4 % ( 344 of 23...           NONE\n",
       "2     Abnormal presentation was the most common indi...           NONE\n",
       "3     The `` corrected '' cesarean rate ( maternal-f...           NONE\n",
       "4     Furthermore , when all deliveries were analyze...           NONE\n",
       "...                                                 ...            ...\n",
       "3650   Special report : <TREAT> pressure-reducing su...  TREAT_FOR_DIS\n",
       "3651   <TREAT> Intravenous immune globulin </TREAT> ...  TREAT_FOR_DIS\n",
       "3652   <TREAT> External counterpulsation </TREAT> fo...  TREAT_FOR_DIS\n",
       "3653   <TREAT> Intra-articular hyaluronan injections...  TREAT_FOR_DIS\n",
       "3654   <DIS_PREV> Pneumococcal </DIS_PREV> <TREAT_PR...        PREVENT\n",
       "\n",
       "[3655 rows x 2 columns]"
      ]
     },
     "execution_count": 3,
     "metadata": {},
     "output_type": "execute_result"
    }
   ],
   "source": [
    "data_df"
   ]
  },
  {
   "cell_type": "code",
   "execution_count": 62,
   "metadata": {},
   "outputs": [],
   "source": [
    "example = data_df['Data'].iloc[3654]"
   ]
  },
  {
   "cell_type": "code",
   "execution_count": 63,
   "metadata": {},
   "outputs": [
    {
     "data": {
      "text/plain": [
       "' <DIS_PREV> Pneumococcal </DIS_PREV> <TREAT_PREV> vaccine </TREAT_PREV> : a second look .'"
      ]
     },
     "execution_count": 63,
     "metadata": {},
     "output_type": "execute_result"
    }
   ],
   "source": [
    "example"
   ]
  },
  {
   "cell_type": "code",
   "execution_count": 64,
   "metadata": {},
   "outputs": [],
   "source": [
    "matches = re.findall(r'<.+?>',example)"
   ]
  },
  {
   "cell_type": "code",
   "execution_count": 65,
   "metadata": {},
   "outputs": [
    {
     "data": {
      "text/plain": [
       "['<DIS_PREV>', '</DIS_PREV>', '<TREAT_PREV>', '</TREAT_PREV>']"
      ]
     },
     "execution_count": 65,
     "metadata": {},
     "output_type": "execute_result"
    }
   ],
   "source": [
    "matches"
   ]
  },
  {
   "cell_type": "code",
   "execution_count": 66,
   "metadata": {},
   "outputs": [],
   "source": [
    "labels=[]\n",
    "for i in data_df['Data']:\n",
    "    labels.append(re.findall(r'<.+?>',i))"
   ]
  },
  {
   "cell_type": "code",
   "execution_count": 68,
   "metadata": {},
   "outputs": [],
   "source": [
    "flat_labels = [item for sublist in labels for item in sublist]"
   ]
  },
  {
   "cell_type": "code",
   "execution_count": 59,
   "metadata": {},
   "outputs": [
    {
     "data": {
      "text/plain": [
       "6818"
      ]
     },
     "execution_count": 59,
     "metadata": {},
     "output_type": "execute_result"
    }
   ],
   "source": [
    "len(flat_labels)"
   ]
  },
  {
   "cell_type": "code",
   "execution_count": 70,
   "metadata": {},
   "outputs": [],
   "source": [
    "unique_labels = list(set(flat_labels))"
   ]
  },
  {
   "cell_type": "code",
   "execution_count": 71,
   "metadata": {},
   "outputs": [
    {
     "data": {
      "text/plain": [
       "['< /TREAT_SIDE_EFF_NO >',\n",
       " '</TREAT_PREV>',\n",
       " '<TREAT_PREV>',\n",
       " '</DIS_VAG>',\n",
       " '<TREAT_NO>',\n",
       " '< DIS_SIDE_EFF_NO >',\n",
       " '<DIS_VAG>',\n",
       " '</DIS>',\n",
       " '<DIS_SIDE_EFF>',\n",
       " '</DIS_NO>',\n",
       " '<TREATONLY>',\n",
       " '<TREAT_VAG>',\n",
       " '<DIS_EFF>',\n",
       " '</TREAT_EFF>',\n",
       " '<DIS>',\n",
       " '< 2 years ) - survival for patients with <DIS>',\n",
       " '< outpatient primary or adjuvant <TREAT>',\n",
       " '</DIS_EFF>',\n",
       " '< Roux-en-Y syndrome >',\n",
       " '<DIS_PREV>',\n",
       " '< /DIS_SIDE_EFF_NO >',\n",
       " '</TREAT>',\n",
       " '</DIS_PREV>',\n",
       " '</TREAT_VAG>',\n",
       " '<TREAT>',\n",
       " '<TREAT_SIDE_EFF>',\n",
       " '<TREAT_EFF>',\n",
       " '< TREAT_SIDE_EFF_NO >',\n",
       " '< TREATONLYPrimary thrombolytic treatment </TREATONLY>',\n",
       " '<DIS_NO>',\n",
       " '< 2 years of age against <DIS_PREV>',\n",
       " '</DISONLY>',\n",
       " '</TREAT_SIDE_EFF>',\n",
       " '</DIS_SIDE_EFF>',\n",
       " '< /TO_SEES >',\n",
       " '<DISONLY>',\n",
       " '</TREATONLY>',\n",
       " '<TO_SEE>',\n",
       " '< or = 30 mm ) were treated by <TREAT>',\n",
       " '</TREAT_NO>']"
      ]
     },
     "execution_count": 71,
     "metadata": {},
     "output_type": "execute_result"
    }
   ],
   "source": [
    "unique_labels"
   ]
  },
  {
   "cell_type": "code",
   "execution_count": 74,
   "metadata": {},
   "outputs": [
    {
     "data": {
      "text/plain": [
       "Counter({'<DISONLY>': 817,\n",
       "         '</DISONLY>': 817,\n",
       "         '<TREATONLY>': 221,\n",
       "         '</TREATONLY>': 221,\n",
       "         '<DIS_PREV>': 76,\n",
       "         '</DIS_PREV>': 77,\n",
       "         '<TREAT_PREV>': 76,\n",
       "         '</TREAT_PREV>': 76,\n",
       "         '<TREAT_VAG>': 44,\n",
       "         '</TREAT_VAG>': 44,\n",
       "         '<DIS_VAG>': 41,\n",
       "         '</DIS_VAG>': 41,\n",
       "         '<TO_SEE>': 75,\n",
       "         '<DIS_SIDE_EFF>': 61,\n",
       "         '</DIS_SIDE_EFF>': 61,\n",
       "         '<DIS>': 937,\n",
       "         '</DIS>': 938,\n",
       "         '<TREAT>': 1017,\n",
       "         '</TREAT>': 1019,\n",
       "         '<TREAT_SIDE_EFF>': 44,\n",
       "         '</TREAT_SIDE_EFF>': 44,\n",
       "         '< DIS_SIDE_EFF_NO >': 2,\n",
       "         '< /DIS_SIDE_EFF_NO >': 2,\n",
       "         '< TREAT_SIDE_EFF_NO >': 1,\n",
       "         '< /TREAT_SIDE_EFF_NO >': 1,\n",
       "         '<TREAT_NO>': 7,\n",
       "         '</TREAT_NO>': 7,\n",
       "         '<DIS_NO>': 12,\n",
       "         '</DIS_NO>': 12,\n",
       "         '< /TO_SEES >': 1,\n",
       "         '< TREATONLYPrimary thrombolytic treatment </TREATONLY>': 1,\n",
       "         '< 2 years of age against <DIS_PREV>': 1,\n",
       "         '< 2 years ) - survival for patients with <DIS>': 1,\n",
       "         '< or = 30 mm ) were treated by <TREAT>': 1,\n",
       "         '< outpatient primary or adjuvant <TREAT>': 1,\n",
       "         '< Roux-en-Y syndrome >': 1,\n",
       "         '<DIS_EFF>': 6,\n",
       "         '</DIS_EFF>': 6,\n",
       "         '<TREAT_EFF>': 4,\n",
       "         '</TREAT_EFF>': 4})"
      ]
     },
     "execution_count": 74,
     "metadata": {},
     "output_type": "execute_result"
    }
   ],
   "source": [
    "from collections import Counter\n",
    "Counter(flat_labels)"
   ]
  },
  {
   "cell_type": "code",
   "execution_count": null,
   "metadata": {},
   "outputs": [],
   "source": []
  },
  {
   "cell_type": "code",
   "execution_count": null,
   "metadata": {},
   "outputs": [],
   "source": []
  },
  {
   "cell_type": "code",
   "execution_count": null,
   "metadata": {},
   "outputs": [],
   "source": []
  },
  {
   "cell_type": "code",
   "execution_count": null,
   "metadata": {},
   "outputs": [],
   "source": []
  },
  {
   "cell_type": "code",
   "execution_count": null,
   "metadata": {},
   "outputs": [],
   "source": []
  },
  {
   "cell_type": "code",
   "execution_count": null,
   "metadata": {},
   "outputs": [],
   "source": [
    "for x in range(len(example)):\n",
    "    m = re.match('<(.*?)>', s[x])\n",
    "    if m:\n",
    "        print(m.group(1))"
   ]
  },
  {
   "cell_type": "code",
   "execution_count": null,
   "metadata": {},
   "outputs": [],
   "source": []
  },
  {
   "cell_type": "code",
   "execution_count": 61,
   "metadata": {},
   "outputs": [
    {
     "data": {
      "text/plain": [
       "array(['NONE', 'DISONLY', 'TREATONLY', 'PREVENT', 'VAGUE', 'TO_SEE',\n",
       "       'TREAT_FOR_DIS', 'SIDE_EFF', 'TREAT_NO_FOR_DIS'], dtype=object)"
      ]
     },
     "execution_count": 61,
     "metadata": {},
     "output_type": "execute_result"
    }
   ],
   "source": [
    "data_df['Label'].unique()"
   ]
  },
  {
   "cell_type": "code",
   "execution_count": 10,
   "metadata": {},
   "outputs": [
    {
     "data": {
      "text/plain": [
       "'Furthermore , when all deliveries were analyzed , regardless of risk status but limited to gestational age > or = 36 weeks , the rates did not change ( 12.6 % , 280 of 2214 ; primary 9.2 % , 183 of 1994 ) .'"
      ]
     },
     "execution_count": 10,
     "metadata": {},
     "output_type": "execute_result"
    }
   ],
   "source": [
    "data_df['Data'].iloc[4]"
   ]
  },
  {
   "cell_type": "code",
   "execution_count": 31,
   "metadata": {},
   "outputs": [
    {
     "data": {
      "text/plain": [
       "18      The study population included 84 women with <D...\n",
       "21      All patients were managed by an intensified pr...\n",
       "26      We conclude that to reduce the rate of <DIS_PR...\n",
       "28      In our study , we specifically analyzed the ro...\n",
       "29      All together , 27 fetuses had this disorder , ...\n",
       "                              ...                        \n",
       "3650     Special report : <TREAT> pressure-reducing su...\n",
       "3651     <TREAT> Intravenous immune globulin </TREAT> ...\n",
       "3652     <TREAT> External counterpulsation </TREAT> fo...\n",
       "3653     <TREAT> Intra-articular hyaluronan injections...\n",
       "3654     <DIS_PREV> Pneumococcal </DIS_PREV> <TREAT_PR...\n",
       "Name: Data, Length: 1837, dtype: object"
      ]
     },
     "execution_count": 31,
     "metadata": {},
     "output_type": "execute_result"
    }
   ],
   "source": [
    "data_df[data_df['Label'] != 'NONE']['Data']"
   ]
  },
  {
   "cell_type": "code",
   "execution_count": null,
   "metadata": {},
   "outputs": [],
   "source": []
  }
 ],
 "metadata": {
  "interpreter": {
   "hash": "6cc9ca513c076563eda6cfe1fbae8a7265968610c2b36865a8154825d9f5c75e"
  },
  "kernelspec": {
   "display_name": "Python 3",
   "language": "python",
   "name": "python3"
  },
  "language_info": {
   "codemirror_mode": {
    "name": "ipython",
    "version": 3
   },
   "file_extension": ".py",
   "mimetype": "text/x-python",
   "name": "python",
   "nbconvert_exporter": "python",
   "pygments_lexer": "ipython3",
   "version": "3.8.5"
  }
 },
 "nbformat": 4,
 "nbformat_minor": 2
}
