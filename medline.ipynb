{
 "cells": [
  {
   "cell_type": "code",
   "execution_count": 1,
   "metadata": {},
   "outputs": [],
   "source": [
    "import pandas as pd\n",
    "import numpy as np\n",
    "\n"
   ]
  },
  {
   "cell_type": "code",
   "execution_count": 60,
   "metadata": {},
   "outputs": [
    {
     "name": "stdout",
     "output_type": "stream",
     "text": [
      "(3655, 2)\n"
     ]
    }
   ],
   "source": [
    "with open('sentences_with_roles_and_relations.txt', encoding = \"ISO-8859-1\") as f:\n",
    "    lines = f.readlines()\n",
    "\n",
    "data_df = pd.DataFrame({'Data':lines})\n",
    "data_df['Label'] = data_df['Data'].apply(lambda x: x.split('||')[1])\n",
    "data_df['Data'] = data_df['Data'].apply(lambda x: x.split('||')[0])\n",
    "data_df['Label'] = data_df['Label'].apply(lambda x: x.replace('\\n', ''))\n",
    "print(data_df.shape)"
   ]
  },
  {
   "cell_type": "code",
   "execution_count": 61,
   "metadata": {},
   "outputs": [
    {
     "data": {
      "text/plain": [
       "array(['NONE', 'DISONLY', 'TREATONLY', 'PREVENT', 'VAGUE', 'TO_SEE',\n",
       "       'TREAT_FOR_DIS', 'SIDE_EFF', 'TREAT_NO_FOR_DIS'], dtype=object)"
      ]
     },
     "execution_count": 61,
     "metadata": {},
     "output_type": "execute_result"
    }
   ],
   "source": [
    "data_df['Label'].unique()"
   ]
  },
  {
   "cell_type": "code",
   "execution_count": null,
   "metadata": {},
   "outputs": [],
   "source": []
  }
 ],
 "metadata": {
  "interpreter": {
   "hash": "6cc9ca513c076563eda6cfe1fbae8a7265968610c2b36865a8154825d9f5c75e"
  },
  "kernelspec": {
   "display_name": "Python 3.8.2 64-bit ('base': conda)",
   "name": "python3"
  },
  "language_info": {
   "codemirror_mode": {
    "name": "ipython",
    "version": 3
   },
   "file_extension": ".py",
   "mimetype": "text/x-python",
   "name": "python",
   "nbconvert_exporter": "python",
   "pygments_lexer": "ipython3",
   "version": "3.8.2"
  },
  "orig_nbformat": 4
 },
 "nbformat": 4,
 "nbformat_minor": 2
}
